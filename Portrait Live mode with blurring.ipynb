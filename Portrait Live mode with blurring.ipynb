{
 "cells": [
  {
   "cell_type": "markdown",
   "metadata": {},
   "source": [
    "###  Build Portrait Live Mode with blurring "
   ]
  },
  {
   "cell_type": "code",
   "execution_count": 40,
   "metadata": {},
   "outputs": [],
   "source": [
    "import numpy as np\n",
    "import cv2 "
   ]
  },
  {
   "cell_type": "code",
   "execution_count": 41,
   "metadata": {},
   "outputs": [],
   "source": [
    "def live_portrait():\n",
    "    cap = cv2.VideoCapture('C:\\\\Users\\\\Mostafa\\\\Desktop\\\\Computer vision\\\\road.mp4') # viedo link or 0 for your camera \n",
    "\n",
    "    while(1):\n",
    "        _,frame = cap.read()\n",
    "\n",
    "        image = cv2.rectangle(frame, (400,20), (900,680),2) #  draw the rectange over video frame \n",
    "        blurredphoto = cv2.GaussianBlur(image,(21,21),0) # Blur applied over the hole image \n",
    "        \n",
    "        blankmask = np.zeros((720, 1280,3),dtype=\"uint8\") # black photo\n",
    "        \n",
    "        whiterec= cv2.rectangle(blankmask, (400,20), (900,680), (255,255,255), -1) # same rectangle over black photo with full white rect\n",
    "        # shift + tab to know the parameters of any function used \n",
    "        #bitwise operations over mask and image \n",
    "        nott = cv2.bitwise_not(whiterec)\n",
    "        croppedViedoinner = cv2.bitwise_and(image, whiterec, mask = None) # cropped inner viedo frame with black background from the orginal image \n",
    "        croppedViedoutter = cv2.bitwise_and(blurredphoto, nott, mask = None) # cropped viedo frame with black foreground  from filtered image (blurred) \n",
    "        \n",
    "        finalimage = cv2.bitwise_or(croppedViedoutter, croppedViedoinner, mask = None) ## Merge the whole viedo again \n",
    "\n",
    "\n",
    "        cv2.imshow('final image',finalimage)\n",
    "\n",
    "\n",
    "#         cv2.imshow('blankmask',ima2)\n",
    "    #     cv2.imshow('Bitwise And', blan)\n",
    "    #     cv2.imshow('blur',blur)\n",
    "    #     cv2.imshow('dest_and',dest_and)\n",
    "\n",
    "\n",
    "\n",
    "\n",
    "        k = cv2.waitKey(5) & 0xFF\n",
    "        if k == 27:\n",
    "                break\n",
    "\n",
    "    cv2.destroyAllWindows()\n",
    "    cap.release()    "
   ]
  },
  {
   "cell_type": "code",
   "execution_count": 43,
   "metadata": {},
   "outputs": [],
   "source": [
    "live_portrait()"
   ]
  },
  {
   "cell_type": "code",
   "execution_count": null,
   "metadata": {},
   "outputs": [],
   "source": []
  }
 ],
 "metadata": {
  "kernelspec": {
   "display_name": "Python 3",
   "language": "python",
   "name": "python3"
  },
  "language_info": {
   "codemirror_mode": {
    "name": "ipython",
    "version": 3
   },
   "file_extension": ".py",
   "mimetype": "text/x-python",
   "name": "python",
   "nbconvert_exporter": "python",
   "pygments_lexer": "ipython3",
   "version": "3.8.3"
  }
 },
 "nbformat": 4,
 "nbformat_minor": 4
}
